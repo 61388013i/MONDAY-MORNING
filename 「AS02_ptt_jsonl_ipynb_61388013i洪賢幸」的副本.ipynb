{
  "cells": [
    {
      "cell_type": "markdown",
      "metadata": {
        "id": "view-in-github",
        "colab_type": "text"
      },
      "source": [
        "<a href=\"https://colab.research.google.com/github/61388013i/MONDAY-MORNING/blob/main/%E3%80%8CAS02_ptt_jsonl_ipynb_61388013i%E6%B4%AA%E8%B3%A2%E5%B9%B8%E3%80%8D%E7%9A%84%E5%89%AF%E6%9C%AC.ipynb\" target=\"_parent\"><img src=\"https://colab.research.google.com/assets/colab-badge.svg\" alt=\"Open In Colab\"/></a>"
      ]
    },
    {
      "cell_type": "markdown",
      "metadata": {
        "id": "BWlWA5HbMwht"
      },
      "source": [
        "# AS02 Reading PTT data\n",
        "\n",
        "在這個作業中，老師給了你一個檔案的資料是g0v所搜集的PTT資料，是2020-01-02當天發佈在Gosshiping版上的貼文及其留言。該檔案用jsonl的方式儲存，每一行是一個json格式的資料，包含了該篇貼文的標題、作者、發文時間、內容、留言等等資訊。你的任務是讀取該檔案，並且回答出該天發文數最多的作者是誰，以及該作者發了幾篇貼文等問題。\n",
        "- 資料鏈結：https://raw.githubusercontent.com/p4css/py4css/refs/heads/main/data/2021-01-02.jsonl"
      ]
    },
    {
      "cell_type": "markdown",
      "metadata": {
        "id": "ZLyvLLobMwhw"
      },
      "source": [
        "## Q1. Read jsonl file (10 points)\n",
        "\n",
        "該資料集中共包含幾篇貼文？（10 points）。請撰寫程式碼讀取jsonl資料，並將該檔案讀取到一個list或dict中。理想上，每篇貼文會是一個dict，而在貼文中，會有一個key對應到的value是comments，該comments也是一個list，裡面包含所有該貼文的comment。"
      ]
    },
    {
      "cell_type": "code",
      "metadata": {
        "colab": {
          "base_uri": "https://localhost:8080/"
        },
        "id": "d9c33e57",
        "outputId": "e9e78a6e-d6d6-42dd-ce6c-50f31c084ee1"
      },
      "source": [
        "# your code\n",
        "import requests\n",
        "import json\n",
        "url = \"https://raw.githubusercontent.com/p4css/py4css/refs/heads/main/data/2021-01-02.jsonl\"\n",
        "response = requests.get(url)\n",
        "\n",
        "if response.status_code == 200:\n",
        "  data_list = []\n",
        "  for line in response.text.strip().split(\"\\n\"):\n",
        "    data = json.loads(line)\n",
        "    data_list.append(data)\n",
        "\n",
        "  print(f\"There are {len(data_list)} posts in total\")\n",
        "else:\n",
        "  print(\"Download failed，status code:\", response.status_code)"
      ],
      "execution_count": null,
      "outputs": [
        {
          "output_type": "stream",
          "name": "stdout",
          "text": [
            "There are 2610 posts in total\n"
          ]
        }
      ]
    },
    {
      "cell_type": "markdown",
      "metadata": {
        "id": "cRcVvn_aMwhz"
      },
      "source": [
        "## Q2. Number of posts and comments (10 points)\n",
        "\n",
        "印出該資料集中，共有幾篇貼文、幾篇留言？(10 points)"
      ]
    },
    {
      "cell_type": "code",
      "execution_count": null,
      "metadata": {
        "id": "LrZ7-lXRMwhz",
        "colab": {
          "base_uri": "https://localhost:8080/"
        },
        "outputId": "d27d2a55-1110-4ab3-a034-2062ca5e67cd"
      },
      "outputs": [
        {
          "output_type": "stream",
          "name": "stdout",
          "text": [
            "Number of posts: 2610, Number of comments: 40763\n"
          ]
        }
      ],
      "source": [
        "import json\n",
        "import requests\n",
        "\n",
        "url = \"https://raw.githubusercontent.com/p4css/py4css/refs/heads/main/data/2021-01-02.jsonl\"\n",
        "response = requests.get(url)\n",
        "\n",
        "if response.status_code == 200:\n",
        "  posts = []\n",
        "  for line in response.text.strip().split(\"\\n\"):\n",
        "    post = json.loads(line)\n",
        "    posts.append(post)\n",
        "  num_posts = len(posts)\n",
        "  num_comments = sum(len(post.get(\"comments\", [])) for post in posts)\n",
        "\n",
        "  print(f\"Number of posts: {num_posts}, Number of comments: {num_comments}\")\n",
        "else:\n",
        "  print(\"Download failed，status code:\", response.status_code)"
      ]
    },
    {
      "cell_type": "markdown",
      "metadata": {
        "id": "ulod7vNJMwh0"
      },
      "source": [
        "## Q3. Metadata of posts and comments (10 points)\n",
        "該資料集中的貼文共有哪些欄位？留言共有哪些欄位？10分"
      ]
    },
    {
      "cell_type": "code",
      "execution_count": 1,
      "metadata": {
        "id": "GmeeEZtQMwh0",
        "colab": {
          "base_uri": "https://localhost:8080/"
        },
        "outputId": "3f54dd91-7d82-4574-ca5c-feb48f45f177"
      },
      "outputs": [
        {
          "output_type": "stream",
          "name": "stdout",
          "text": [
            "Variables of posts: ['author', 'canonical_url', 'comments', 'connect_from', 'first_seen_at', 'hashtags', 'id', 'image_urls', 'keywords', 'last_updated_at', 'metadata', 'producer_id', 'published_at', 'tags', 'text', 'title', 'urls', 'version'], Variables of comments: ['author', 'id', 'published_at', 'reaction', 'text']\n"
          ]
        }
      ],
      "source": [
        "import json\n",
        "import requests\n",
        "\n",
        "url = \"https://raw.githubusercontent.com/p4css/py4css/refs/heads/main/data/2021-01-02.jsonl\"\n",
        "response = requests.get(url)\n",
        "\n",
        "if response.status_code == 200:\n",
        "    posts = []\n",
        "    for line in response.text.strip().split(\"\\n\"):\n",
        "        post = json.loads(line)\n",
        "        posts.append(post)\n",
        "\n",
        "\n",
        "    post_keys = set()\n",
        "    for post in posts:\n",
        "        post_keys.update(post.keys())\n",
        "\n",
        "\n",
        "    comment_keys = set()\n",
        "    for post in posts:\n",
        "        for c in post.get(\"comments\", []):\n",
        "            comment_keys.update(c.keys())\n",
        "\n",
        "    print(f\"Variables of posts: {sorted(post_keys)}, Variables of comments: {sorted(comment_keys)}\")\n",
        "else:\n",
        "    print(\"Download failed, status code:\", response.status_code)\n"
      ]
    },
    {
      "cell_type": "markdown",
      "metadata": {
        "id": "fhnPhcGTMwh0"
      },
      "source": [
        "## Q4. Unique posts (10 points)\n",
        "該資料集中共有幾位貼文者？（注意，可能同一位版友會張貼超過一篇文章）10分\n"
      ]
    },
    {
      "cell_type": "code",
      "execution_count": null,
      "metadata": {
        "id": "hq_B_CUCMwh0",
        "colab": {
          "base_uri": "https://localhost:8080/"
        },
        "outputId": "dd4bacec-d878-49cf-ea03-7a7298fa2181"
      },
      "outputs": [
        {
          "output_type": "stream",
          "name": "stdout",
          "text": [
            "Unique post authors: 1173\n"
          ]
        }
      ],
      "source": [
        "import json\n",
        "import requests\n",
        "\n",
        "url = \"https://raw.githubusercontent.com/p4css/py4css/refs/heads/main/data/2021-01-02.jsonl\"\n",
        "response = requests.get(url)\n",
        "\n",
        "if response.status_code == 200:\n",
        "  posts = [json.loads(line) for line in response.text.strip().split(\"\\n\")]\n",
        "\n",
        "  authors = {post[\"author\"] for post in posts}\n",
        "  print(f\"Unique post authors: {len(authors)}\")\n",
        "else:\n",
        "  print(\"Download failed，status code:\", response.status_code)"
      ]
    },
    {
      "cell_type": "markdown",
      "metadata": {
        "id": "mDaoVW_FMwh1"
      },
      "source": [
        "## Q5. Top 1 commentors (10 points)\n",
        "\n",
        "留言數最高的留言者是誰？10分\n"
      ]
    },
    {
      "cell_type": "code",
      "execution_count": null,
      "metadata": {
        "id": "ts4DtAtOMwh1",
        "colab": {
          "base_uri": "https://localhost:8080/"
        },
        "outputId": "1d8c761a-687d-461a-89c7-ec50bc73dd83"
      },
      "outputs": [
        {
          "output_type": "stream",
          "name": "stdout",
          "text": [
            "The top-1 active commentors: deepdish with 334 comments\n"
          ]
        }
      ],
      "source": [
        "import json\n",
        "import requests\n",
        "from collections import Counter\n",
        "\n",
        "url = \"https://raw.githubusercontent.com/p4css/py4css/refs/heads/main/data/2021-01-02.jsonl\"\n",
        "response = requests.get(url)\n",
        "\n",
        "if response.status_code == 200:\n",
        "  posts = [json.loads(line) for line in response.text.strip().split(\"\\n\")]\n",
        "\n",
        "  all_commentors = []\n",
        "  for post in posts:\n",
        "    for c in post.get(\"comments\", []):\n",
        "      all_commentors.append(c.get(\"author\", \"unknown\"))\n",
        "\n",
        "  counter = Counter(all_commentors)\n",
        "  top1 = counter.most_common(1)[0]\n",
        "\n",
        "  print(f\"The top-1 active commentors: {top1[0]} with {top1[1]} comments\")\n",
        "else:\n",
        "  print(\"Download failed，status code:\", response.status_code)"
      ]
    },
    {
      "cell_type": "markdown",
      "metadata": {
        "id": "JdTK59gPMwh1"
      },
      "source": [
        "## Q6. Top-10 commentors (10 points)\n",
        "\n",
        "留言數最高的前10大留言者是誰？其分別發布了多少篇留言？20分\n",
        "\n",
        "Print out the top 10 authors with the most comments. The output format is as follows:\n",
        "\n",
        "```\n",
        "Top 1: commentor_name, 100 comments\n",
        "Top 2: commentor_name, 99 comments\n",
        "\n",
        "```"
      ]
    },
    {
      "cell_type": "code",
      "execution_count": null,
      "metadata": {
        "id": "2pWGCdMTMwh1",
        "colab": {
          "base_uri": "https://localhost:8080/"
        },
        "outputId": "bc5fb2fa-57a4-4fa5-f638-01a100dbce5f"
      },
      "outputs": [
        {
          "output_type": "stream",
          "name": "stdout",
          "text": [
            "Top 10 commentors:\n",
            "Top\t1: deepdish,\t334 comments\n",
            "Top\t2: Ram5566,\t210 comments\n",
            "Top\t3: zoo0602,\t204 comments\n",
            "Top\t4: abadjoke,\t187 comments\n",
            "Top\t5: Anvec,\t187 comments\n",
            "Top\t6: debbieyy,\t187 comments\n",
            "Top\t7: smallkaka,\t185 comments\n",
            "Top\t8: diabolica,\t170 comments\n",
            "Top\t9: deep77092,\t170 comments\n",
            "Top\t10: wudatou,\t157 comments\n"
          ]
        }
      ],
      "source": [
        "import json\n",
        "import requests\n",
        "from collections import Counter\n",
        "\n",
        "url = \"https://raw.githubusercontent.com/p4css/py4css/refs/heads/main/data/2021-01-02.jsonl\"\n",
        "response = requests.get(url)\n",
        "\n",
        "if response.status_code == 200:\n",
        "  posts = [json.loads(line) for line in response.text.strip().split(\"\\n\")]\n",
        "\n",
        "  all_commentors = []\n",
        "  for post in posts:\n",
        "    for c in post.get(\"comments\", []):\n",
        "      all_commentors.append(c.get(\"author\", \"unknown\"))\n",
        "\n",
        "  counter = Counter(all_commentors)\n",
        "\n",
        "  top10 = counter.most_common(10)\n",
        "\n",
        "  print(\"Top 10 commentors:\")\n",
        "  for i in range(10):\n",
        "    print(f\"Top\\t{i+1}: {top10[i][0]},\\t{top10[i][1]} comments\")\n",
        "else:\n",
        "  print(\"Download failed，status code:\", response.status_code)"
      ]
    }
  ],
  "metadata": {
    "kernelspec": {
      "display_name": "new_tm",
      "language": "python",
      "name": "python3"
    },
    "language_info": {
      "name": "python",
      "version": "3.9.7"
    },
    "orig_nbformat": 4,
    "colab": {
      "provenance": [],
      "include_colab_link": true
    }
  },
  "nbformat": 4,
  "nbformat_minor": 0
}